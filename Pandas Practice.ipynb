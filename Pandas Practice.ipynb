{
 "cells": [
  {
   "cell_type": "code",
   "execution_count": 1,
   "id": "c15a7c57-a34e-4e81-b706-bd6bb8be4a2e",
   "metadata": {},
   "outputs": [],
   "source": [
    "import pandas as pd"
   ]
  },
  {
   "cell_type": "code",
   "execution_count": 3,
   "id": "a18c1f0f-9f8a-41b7-8dbf-91fb2a40b568",
   "metadata": {},
   "outputs": [],
   "source": [
    "df=pd.read_csv(r\"C:\\Users\\hp\\Downloads\\pandas_practice1_dataset.csv\")"
   ]
  },
  {
   "cell_type": "code",
   "execution_count": 5,
   "id": "3e923eaf-6920-4651-930a-a02e74542e60",
   "metadata": {},
   "outputs": [
    {
     "data": {
      "text/html": [
       "<div>\n",
       "<style scoped>\n",
       "    .dataframe tbody tr th:only-of-type {\n",
       "        vertical-align: middle;\n",
       "    }\n",
       "\n",
       "    .dataframe tbody tr th {\n",
       "        vertical-align: top;\n",
       "    }\n",
       "\n",
       "    .dataframe thead th {\n",
       "        text-align: right;\n",
       "    }\n",
       "</style>\n",
       "<table border=\"1\" class=\"dataframe\">\n",
       "  <thead>\n",
       "    <tr style=\"text-align: right;\">\n",
       "      <th></th>\n",
       "      <th>Product_ID</th>\n",
       "      <th>Product_Name</th>\n",
       "      <th>Brand</th>\n",
       "      <th>Category</th>\n",
       "      <th>Price</th>\n",
       "      <th>Stock_Units</th>\n",
       "      <th>Country_Of_Origin</th>\n",
       "      <th>Launch_Date</th>\n",
       "    </tr>\n",
       "  </thead>\n",
       "  <tbody>\n",
       "    <tr>\n",
       "      <th>0</th>\n",
       "      <td>1001</td>\n",
       "      <td>Router</td>\n",
       "      <td>Logitech</td>\n",
       "      <td>Accessories</td>\n",
       "      <td>574.15</td>\n",
       "      <td>188.0</td>\n",
       "      <td>Germany</td>\n",
       "      <td>2020-06-22</td>\n",
       "    </tr>\n",
       "    <tr>\n",
       "      <th>1</th>\n",
       "      <td>1002</td>\n",
       "      <td>Laptop</td>\n",
       "      <td>HP</td>\n",
       "      <td>Accessories</td>\n",
       "      <td>1644.89</td>\n",
       "      <td>203.0</td>\n",
       "      <td>UK</td>\n",
       "      <td>2023-10-15</td>\n",
       "    </tr>\n",
       "    <tr>\n",
       "      <th>2</th>\n",
       "      <td>1003</td>\n",
       "      <td>Mouse</td>\n",
       "      <td>Logitech</td>\n",
       "      <td>Peripherals</td>\n",
       "      <td>642.71</td>\n",
       "      <td>325.0</td>\n",
       "      <td>India</td>\n",
       "      <td>2019-02-22</td>\n",
       "    </tr>\n",
       "    <tr>\n",
       "      <th>3</th>\n",
       "      <td>1004</td>\n",
       "      <td>Keyboard</td>\n",
       "      <td>Samsung</td>\n",
       "      <td>Peripherals</td>\n",
       "      <td>888.96</td>\n",
       "      <td>439.0</td>\n",
       "      <td>USA</td>\n",
       "      <td>2020-12-22</td>\n",
       "    </tr>\n",
       "    <tr>\n",
       "      <th>4</th>\n",
       "      <td>1005</td>\n",
       "      <td>Keyboard</td>\n",
       "      <td>Canon</td>\n",
       "      <td>Electronics</td>\n",
       "      <td>1500.41</td>\n",
       "      <td>51.0</td>\n",
       "      <td>Japan</td>\n",
       "      <td>2019-11-27</td>\n",
       "    </tr>\n",
       "  </tbody>\n",
       "</table>\n",
       "</div>"
      ],
      "text/plain": [
       "   Product_ID Product_Name     Brand     Category    Price  Stock_Units  \\\n",
       "0        1001       Router  Logitech  Accessories   574.15        188.0   \n",
       "1        1002       Laptop        HP  Accessories  1644.89        203.0   \n",
       "2        1003        Mouse  Logitech  Peripherals   642.71        325.0   \n",
       "3        1004     Keyboard   Samsung  Peripherals   888.96        439.0   \n",
       "4        1005     Keyboard     Canon  Electronics  1500.41         51.0   \n",
       "\n",
       "  Country_Of_Origin Launch_Date  \n",
       "0           Germany  2020-06-22  \n",
       "1                UK  2023-10-15  \n",
       "2             India  2019-02-22  \n",
       "3               USA  2020-12-22  \n",
       "4             Japan  2019-11-27  "
      ]
     },
     "execution_count": 5,
     "metadata": {},
     "output_type": "execute_result"
    }
   ],
   "source": [
    "df.head()"
   ]
  },
  {
   "cell_type": "code",
   "execution_count": 7,
   "id": "cde166a9-585e-4689-85a2-da7c0e5e15ad",
   "metadata": {},
   "outputs": [
    {
     "data": {
      "text/html": [
       "<div>\n",
       "<style scoped>\n",
       "    .dataframe tbody tr th:only-of-type {\n",
       "        vertical-align: middle;\n",
       "    }\n",
       "\n",
       "    .dataframe tbody tr th {\n",
       "        vertical-align: top;\n",
       "    }\n",
       "\n",
       "    .dataframe thead th {\n",
       "        text-align: right;\n",
       "    }\n",
       "</style>\n",
       "<table border=\"1\" class=\"dataframe\">\n",
       "  <thead>\n",
       "    <tr style=\"text-align: right;\">\n",
       "      <th></th>\n",
       "      <th>Product_ID</th>\n",
       "      <th>Product_Name</th>\n",
       "      <th>Brand</th>\n",
       "      <th>Category</th>\n",
       "      <th>Price</th>\n",
       "      <th>Stock_Units</th>\n",
       "      <th>Country_Of_Origin</th>\n",
       "      <th>Launch_Date</th>\n",
       "    </tr>\n",
       "  </thead>\n",
       "  <tbody>\n",
       "    <tr>\n",
       "      <th>510</th>\n",
       "      <td>1433</td>\n",
       "      <td>Monitor</td>\n",
       "      <td>HP</td>\n",
       "      <td>Peripherals</td>\n",
       "      <td>318.13</td>\n",
       "      <td>48.0</td>\n",
       "      <td>India</td>\n",
       "      <td>2018-12-19</td>\n",
       "    </tr>\n",
       "    <tr>\n",
       "      <th>511</th>\n",
       "      <td>1069</td>\n",
       "      <td>Printer</td>\n",
       "      <td>Lenovo</td>\n",
       "      <td>Peripherals</td>\n",
       "      <td>823.61</td>\n",
       "      <td>234.0</td>\n",
       "      <td>China</td>\n",
       "      <td>2023-04-10</td>\n",
       "    </tr>\n",
       "    <tr>\n",
       "      <th>512</th>\n",
       "      <td>1072</td>\n",
       "      <td>Smartphone</td>\n",
       "      <td>Asus</td>\n",
       "      <td>Electronics</td>\n",
       "      <td>1854.61</td>\n",
       "      <td>363.0</td>\n",
       "      <td>India</td>\n",
       "      <td>2023-05-06</td>\n",
       "    </tr>\n",
       "    <tr>\n",
       "      <th>513</th>\n",
       "      <td>1351</td>\n",
       "      <td>Keyboard</td>\n",
       "      <td>Apple</td>\n",
       "      <td>Accessories</td>\n",
       "      <td>801.33</td>\n",
       "      <td>340.0</td>\n",
       "      <td>India</td>\n",
       "      <td>2021-09-28</td>\n",
       "    </tr>\n",
       "    <tr>\n",
       "      <th>514</th>\n",
       "      <td>1123</td>\n",
       "      <td>Headphones</td>\n",
       "      <td>Lenovo</td>\n",
       "      <td>Accessories</td>\n",
       "      <td>1162.56</td>\n",
       "      <td>283.0</td>\n",
       "      <td>Japan</td>\n",
       "      <td>2023-06-26</td>\n",
       "    </tr>\n",
       "  </tbody>\n",
       "</table>\n",
       "</div>"
      ],
      "text/plain": [
       "     Product_ID Product_Name   Brand     Category    Price  Stock_Units  \\\n",
       "510        1433      Monitor      HP  Peripherals   318.13         48.0   \n",
       "511        1069      Printer  Lenovo  Peripherals   823.61        234.0   \n",
       "512        1072   Smartphone    Asus  Electronics  1854.61        363.0   \n",
       "513        1351     Keyboard   Apple  Accessories   801.33        340.0   \n",
       "514        1123   Headphones  Lenovo  Accessories  1162.56        283.0   \n",
       "\n",
       "    Country_Of_Origin Launch_Date  \n",
       "510             India  2018-12-19  \n",
       "511             China  2023-04-10  \n",
       "512             India  2023-05-06  \n",
       "513             India  2021-09-28  \n",
       "514             Japan  2023-06-26  "
      ]
     },
     "execution_count": 7,
     "metadata": {},
     "output_type": "execute_result"
    }
   ],
   "source": [
    "df.tail()"
   ]
  },
  {
   "cell_type": "code",
   "execution_count": 9,
   "id": "628d9e5a-4290-47de-999a-c22a62b3001f",
   "metadata": {},
   "outputs": [
    {
     "data": {
      "text/plain": [
       "(515, 8)"
      ]
     },
     "execution_count": 9,
     "metadata": {},
     "output_type": "execute_result"
    }
   ],
   "source": [
    "df.shape"
   ]
  },
  {
   "cell_type": "code",
   "execution_count": 11,
   "id": "0ab4596c-045b-467d-8cef-b3bf8e9f966f",
   "metadata": {},
   "outputs": [
    {
     "name": "stdout",
     "output_type": "stream",
     "text": [
      "<class 'pandas.core.frame.DataFrame'>\n",
      "RangeIndex: 515 entries, 0 to 514\n",
      "Data columns (total 8 columns):\n",
      " #   Column             Non-Null Count  Dtype  \n",
      "---  ------             --------------  -----  \n",
      " 0   Product_ID         515 non-null    int64  \n",
      " 1   Product_Name       515 non-null    object \n",
      " 2   Brand              495 non-null    object \n",
      " 3   Category           515 non-null    object \n",
      " 4   Price              495 non-null    float64\n",
      " 5   Stock_Units        494 non-null    float64\n",
      " 6   Country_Of_Origin  515 non-null    object \n",
      " 7   Launch_Date        515 non-null    object \n",
      "dtypes: float64(2), int64(1), object(5)\n",
      "memory usage: 32.3+ KB\n"
     ]
    }
   ],
   "source": [
    "df.info()"
   ]
  },
  {
   "cell_type": "code",
   "execution_count": 13,
   "id": "a1f14e03-20af-4d32-bb77-d5183b074bf7",
   "metadata": {},
   "outputs": [
    {
     "data": {
      "text/html": [
       "<div>\n",
       "<style scoped>\n",
       "    .dataframe tbody tr th:only-of-type {\n",
       "        vertical-align: middle;\n",
       "    }\n",
       "\n",
       "    .dataframe tbody tr th {\n",
       "        vertical-align: top;\n",
       "    }\n",
       "\n",
       "    .dataframe thead th {\n",
       "        text-align: right;\n",
       "    }\n",
       "</style>\n",
       "<table border=\"1\" class=\"dataframe\">\n",
       "  <thead>\n",
       "    <tr style=\"text-align: right;\">\n",
       "      <th></th>\n",
       "      <th>Product_ID</th>\n",
       "      <th>Price</th>\n",
       "      <th>Stock_Units</th>\n",
       "    </tr>\n",
       "  </thead>\n",
       "  <tbody>\n",
       "    <tr>\n",
       "      <th>count</th>\n",
       "      <td>515.000000</td>\n",
       "      <td>495.000000</td>\n",
       "      <td>494.000000</td>\n",
       "    </tr>\n",
       "    <tr>\n",
       "      <th>mean</th>\n",
       "      <td>1249.976699</td>\n",
       "      <td>1027.038485</td>\n",
       "      <td>256.018219</td>\n",
       "    </tr>\n",
       "    <tr>\n",
       "      <th>std</th>\n",
       "      <td>144.491687</td>\n",
       "      <td>574.943081</td>\n",
       "      <td>144.328485</td>\n",
       "    </tr>\n",
       "    <tr>\n",
       "      <th>min</th>\n",
       "      <td>1001.000000</td>\n",
       "      <td>52.680000</td>\n",
       "      <td>0.000000</td>\n",
       "    </tr>\n",
       "    <tr>\n",
       "      <th>25%</th>\n",
       "      <td>1123.500000</td>\n",
       "      <td>526.785000</td>\n",
       "      <td>128.750000</td>\n",
       "    </tr>\n",
       "    <tr>\n",
       "      <th>50%</th>\n",
       "      <td>1251.000000</td>\n",
       "      <td>1026.990000</td>\n",
       "      <td>258.000000</td>\n",
       "    </tr>\n",
       "    <tr>\n",
       "      <th>75%</th>\n",
       "      <td>1375.500000</td>\n",
       "      <td>1563.940000</td>\n",
       "      <td>379.750000</td>\n",
       "    </tr>\n",
       "    <tr>\n",
       "      <th>max</th>\n",
       "      <td>1500.000000</td>\n",
       "      <td>1994.630000</td>\n",
       "      <td>497.000000</td>\n",
       "    </tr>\n",
       "  </tbody>\n",
       "</table>\n",
       "</div>"
      ],
      "text/plain": [
       "        Product_ID        Price  Stock_Units\n",
       "count   515.000000   495.000000   494.000000\n",
       "mean   1249.976699  1027.038485   256.018219\n",
       "std     144.491687   574.943081   144.328485\n",
       "min    1001.000000    52.680000     0.000000\n",
       "25%    1123.500000   526.785000   128.750000\n",
       "50%    1251.000000  1026.990000   258.000000\n",
       "75%    1375.500000  1563.940000   379.750000\n",
       "max    1500.000000  1994.630000   497.000000"
      ]
     },
     "execution_count": 13,
     "metadata": {},
     "output_type": "execute_result"
    }
   ],
   "source": [
    "df.describe()"
   ]
  },
  {
   "cell_type": "code",
   "execution_count": 15,
   "id": "a2f76467-fb60-4144-a878-15f59ac885b4",
   "metadata": {},
   "outputs": [
    {
     "data": {
      "text/html": [
       "<div>\n",
       "<style scoped>\n",
       "    .dataframe tbody tr th:only-of-type {\n",
       "        vertical-align: middle;\n",
       "    }\n",
       "\n",
       "    .dataframe tbody tr th {\n",
       "        vertical-align: top;\n",
       "    }\n",
       "\n",
       "    .dataframe thead th {\n",
       "        text-align: right;\n",
       "    }\n",
       "</style>\n",
       "<table border=\"1\" class=\"dataframe\">\n",
       "  <thead>\n",
       "    <tr style=\"text-align: right;\">\n",
       "      <th></th>\n",
       "      <th>Product_ID</th>\n",
       "      <th>Product_Name</th>\n",
       "      <th>Brand</th>\n",
       "      <th>Category</th>\n",
       "      <th>Price</th>\n",
       "      <th>Stock_Units</th>\n",
       "      <th>Country_Of_Origin</th>\n",
       "      <th>Launch_Date</th>\n",
       "    </tr>\n",
       "  </thead>\n",
       "  <tbody>\n",
       "    <tr>\n",
       "      <th>count</th>\n",
       "      <td>515.000000</td>\n",
       "      <td>515</td>\n",
       "      <td>495</td>\n",
       "      <td>515</td>\n",
       "      <td>495.000000</td>\n",
       "      <td>494.000000</td>\n",
       "      <td>515</td>\n",
       "      <td>515</td>\n",
       "    </tr>\n",
       "    <tr>\n",
       "      <th>unique</th>\n",
       "      <td>NaN</td>\n",
       "      <td>10</td>\n",
       "      <td>8</td>\n",
       "      <td>3</td>\n",
       "      <td>NaN</td>\n",
       "      <td>NaN</td>\n",
       "      <td>6</td>\n",
       "      <td>440</td>\n",
       "    </tr>\n",
       "    <tr>\n",
       "      <th>top</th>\n",
       "      <td>NaN</td>\n",
       "      <td>Laptop</td>\n",
       "      <td>Apple</td>\n",
       "      <td>Peripherals</td>\n",
       "      <td>NaN</td>\n",
       "      <td>NaN</td>\n",
       "      <td>India</td>\n",
       "      <td>2023-05-06</td>\n",
       "    </tr>\n",
       "    <tr>\n",
       "      <th>freq</th>\n",
       "      <td>NaN</td>\n",
       "      <td>63</td>\n",
       "      <td>67</td>\n",
       "      <td>182</td>\n",
       "      <td>NaN</td>\n",
       "      <td>NaN</td>\n",
       "      <td>94</td>\n",
       "      <td>4</td>\n",
       "    </tr>\n",
       "    <tr>\n",
       "      <th>mean</th>\n",
       "      <td>1249.976699</td>\n",
       "      <td>NaN</td>\n",
       "      <td>NaN</td>\n",
       "      <td>NaN</td>\n",
       "      <td>1027.038485</td>\n",
       "      <td>256.018219</td>\n",
       "      <td>NaN</td>\n",
       "      <td>NaN</td>\n",
       "    </tr>\n",
       "    <tr>\n",
       "      <th>std</th>\n",
       "      <td>144.491687</td>\n",
       "      <td>NaN</td>\n",
       "      <td>NaN</td>\n",
       "      <td>NaN</td>\n",
       "      <td>574.943081</td>\n",
       "      <td>144.328485</td>\n",
       "      <td>NaN</td>\n",
       "      <td>NaN</td>\n",
       "    </tr>\n",
       "    <tr>\n",
       "      <th>min</th>\n",
       "      <td>1001.000000</td>\n",
       "      <td>NaN</td>\n",
       "      <td>NaN</td>\n",
       "      <td>NaN</td>\n",
       "      <td>52.680000</td>\n",
       "      <td>0.000000</td>\n",
       "      <td>NaN</td>\n",
       "      <td>NaN</td>\n",
       "    </tr>\n",
       "    <tr>\n",
       "      <th>25%</th>\n",
       "      <td>1123.500000</td>\n",
       "      <td>NaN</td>\n",
       "      <td>NaN</td>\n",
       "      <td>NaN</td>\n",
       "      <td>526.785000</td>\n",
       "      <td>128.750000</td>\n",
       "      <td>NaN</td>\n",
       "      <td>NaN</td>\n",
       "    </tr>\n",
       "    <tr>\n",
       "      <th>50%</th>\n",
       "      <td>1251.000000</td>\n",
       "      <td>NaN</td>\n",
       "      <td>NaN</td>\n",
       "      <td>NaN</td>\n",
       "      <td>1026.990000</td>\n",
       "      <td>258.000000</td>\n",
       "      <td>NaN</td>\n",
       "      <td>NaN</td>\n",
       "    </tr>\n",
       "    <tr>\n",
       "      <th>75%</th>\n",
       "      <td>1375.500000</td>\n",
       "      <td>NaN</td>\n",
       "      <td>NaN</td>\n",
       "      <td>NaN</td>\n",
       "      <td>1563.940000</td>\n",
       "      <td>379.750000</td>\n",
       "      <td>NaN</td>\n",
       "      <td>NaN</td>\n",
       "    </tr>\n",
       "    <tr>\n",
       "      <th>max</th>\n",
       "      <td>1500.000000</td>\n",
       "      <td>NaN</td>\n",
       "      <td>NaN</td>\n",
       "      <td>NaN</td>\n",
       "      <td>1994.630000</td>\n",
       "      <td>497.000000</td>\n",
       "      <td>NaN</td>\n",
       "      <td>NaN</td>\n",
       "    </tr>\n",
       "  </tbody>\n",
       "</table>\n",
       "</div>"
      ],
      "text/plain": [
       "         Product_ID Product_Name  Brand     Category        Price  \\\n",
       "count    515.000000          515    495          515   495.000000   \n",
       "unique          NaN           10      8            3          NaN   \n",
       "top             NaN       Laptop  Apple  Peripherals          NaN   \n",
       "freq            NaN           63     67          182          NaN   \n",
       "mean    1249.976699          NaN    NaN          NaN  1027.038485   \n",
       "std      144.491687          NaN    NaN          NaN   574.943081   \n",
       "min     1001.000000          NaN    NaN          NaN    52.680000   \n",
       "25%     1123.500000          NaN    NaN          NaN   526.785000   \n",
       "50%     1251.000000          NaN    NaN          NaN  1026.990000   \n",
       "75%     1375.500000          NaN    NaN          NaN  1563.940000   \n",
       "max     1500.000000          NaN    NaN          NaN  1994.630000   \n",
       "\n",
       "        Stock_Units Country_Of_Origin Launch_Date  \n",
       "count    494.000000               515         515  \n",
       "unique          NaN                 6         440  \n",
       "top             NaN             India  2023-05-06  \n",
       "freq            NaN                94           4  \n",
       "mean     256.018219               NaN         NaN  \n",
       "std      144.328485               NaN         NaN  \n",
       "min        0.000000               NaN         NaN  \n",
       "25%      128.750000               NaN         NaN  \n",
       "50%      258.000000               NaN         NaN  \n",
       "75%      379.750000               NaN         NaN  \n",
       "max      497.000000               NaN         NaN  "
      ]
     },
     "execution_count": 15,
     "metadata": {},
     "output_type": "execute_result"
    }
   ],
   "source": [
    "df.describe(include='all')"
   ]
  },
  {
   "cell_type": "code",
   "execution_count": 17,
   "id": "4ce73e42-533f-49fe-a2a4-e4f36b751a20",
   "metadata": {},
   "outputs": [
    {
     "data": {
      "text/plain": [
       "Index(['Product_ID', 'Product_Name', 'Brand', 'Category', 'Price',\n",
       "       'Stock_Units', 'Country_Of_Origin', 'Launch_Date'],\n",
       "      dtype='object')"
      ]
     },
     "execution_count": 17,
     "metadata": {},
     "output_type": "execute_result"
    }
   ],
   "source": [
    "df.columns"
   ]
  },
  {
   "cell_type": "code",
   "execution_count": 19,
   "id": "fb45c4a0-9dc6-4b0d-b6b2-177844379504",
   "metadata": {},
   "outputs": [
    {
     "data": {
      "text/plain": [
       "15"
      ]
     },
     "execution_count": 19,
     "metadata": {},
     "output_type": "execute_result"
    }
   ],
   "source": [
    "df.duplicated().sum()"
   ]
  },
  {
   "cell_type": "code",
   "execution_count": 21,
   "id": "34fbd2c2-42d8-4f70-953a-cbcc8d9accd2",
   "metadata": {},
   "outputs": [
    {
     "data": {
      "text/plain": [
       "Product_ID            0\n",
       "Product_Name          0\n",
       "Brand                20\n",
       "Category              0\n",
       "Price                20\n",
       "Stock_Units          21\n",
       "Country_Of_Origin     0\n",
       "Launch_Date           0\n",
       "dtype: int64"
      ]
     },
     "execution_count": 21,
     "metadata": {},
     "output_type": "execute_result"
    }
   ],
   "source": [
    "df.isnull().sum()"
   ]
  },
  {
   "cell_type": "code",
   "execution_count": 23,
   "id": "7674f181-eec8-4a5b-8abc-5c91756c90cd",
   "metadata": {},
   "outputs": [
    {
     "data": {
      "text/plain": [
       "Product_ID           500\n",
       "Product_Name          10\n",
       "Brand                  8\n",
       "Category               3\n",
       "Price                480\n",
       "Stock_Units          311\n",
       "Country_Of_Origin      6\n",
       "Launch_Date          440\n",
       "dtype: int64"
      ]
     },
     "execution_count": 23,
     "metadata": {},
     "output_type": "execute_result"
    }
   ],
   "source": [
    "df.nunique()"
   ]
  },
  {
   "cell_type": "code",
   "execution_count": 25,
   "id": "a10cbf14-b785-4121-a5df-5f18b968f820",
   "metadata": {},
   "outputs": [
    {
     "data": {
      "text/plain": [
       "Product_Name\n",
       "Laptop        63\n",
       "Smartphone    57\n",
       "Mouse         56\n",
       "Monitor       54\n",
       "Keyboard      53\n",
       "Printer       53\n",
       "Webcam        51\n",
       "Tablet        47\n",
       "Headphones    45\n",
       "Router        36\n",
       "Name: count, dtype: int64"
      ]
     },
     "execution_count": 25,
     "metadata": {},
     "output_type": "execute_result"
    }
   ],
   "source": [
    "df['Product_Name'].value_counts()"
   ]
  },
  {
   "cell_type": "code",
   "execution_count": 27,
   "id": "54c8df54-b0bc-41ee-8b7c-b8ef063f6c72",
   "metadata": {},
   "outputs": [
    {
     "data": {
      "text/plain": [
       "Brand\n",
       "Apple       67\n",
       "Lenovo      66\n",
       "Samsung     64\n",
       "Dell        63\n",
       "Asus        62\n",
       "HP          58\n",
       "Canon       58\n",
       "Logitech    57\n",
       "Name: count, dtype: int64"
      ]
     },
     "execution_count": 27,
     "metadata": {},
     "output_type": "execute_result"
    }
   ],
   "source": [
    "df['Brand'].value_counts()"
   ]
  },
  {
   "cell_type": "code",
   "execution_count": 29,
   "id": "4d84845e-c179-43ff-b0cf-27bc3c5496b9",
   "metadata": {},
   "outputs": [
    {
     "data": {
      "text/plain": [
       "Category\n",
       "Peripherals    182\n",
       "Accessories    171\n",
       "Electronics    162\n",
       "Name: count, dtype: int64"
      ]
     },
     "execution_count": 29,
     "metadata": {},
     "output_type": "execute_result"
    }
   ],
   "source": [
    "df['Category'].value_counts()"
   ]
  },
  {
   "cell_type": "code",
   "execution_count": 31,
   "id": "743c7021-983a-4e22-9265-d71b3e2b5f18",
   "metadata": {},
   "outputs": [
    {
     "data": {
      "text/plain": [
       "Country_Of_Origin\n",
       "India      94\n",
       "UK         92\n",
       "Germany    89\n",
       "USA        82\n",
       "Japan      81\n",
       "China      77\n",
       "Name: count, dtype: int64"
      ]
     },
     "execution_count": 31,
     "metadata": {},
     "output_type": "execute_result"
    }
   ],
   "source": [
    "df['Country_Of_Origin'].value_counts()"
   ]
  },
  {
   "cell_type": "code",
   "execution_count": 45,
   "id": "cdded682-dbc9-4ad5-bc60-d4043bb430d8",
   "metadata": {},
   "outputs": [
    {
     "data": {
      "text/plain": [
       "Country_Of_Origin\n",
       "UK         102374.97\n",
       "India       91193.18\n",
       "Germany     84761.07\n",
       "USA         80096.13\n",
       "China       75282.48\n",
       "Japan       74676.22\n",
       "Name: Price, dtype: float64"
      ]
     },
     "execution_count": 45,
     "metadata": {},
     "output_type": "execute_result"
    }
   ],
   "source": [
    "df.groupby('Country_Of_Origin')['Price'].sum().sort_values(ascending=False)"
   ]
  },
  {
   "cell_type": "code",
   "execution_count": 47,
   "id": "c723aa5c-2677-49bc-b991-b8e951156197",
   "metadata": {},
   "outputs": [
    {
     "data": {
      "text/plain": [
       "Category\n",
       "Peripherals    185687.83\n",
       "Electronics    162121.31\n",
       "Accessories    160574.91\n",
       "Name: Price, dtype: float64"
      ]
     },
     "execution_count": 47,
     "metadata": {},
     "output_type": "execute_result"
    }
   ],
   "source": [
    "df.groupby('Category')['Price'].sum().sort_values(ascending=False)"
   ]
  },
  {
   "cell_type": "code",
   "execution_count": 49,
   "id": "dc14d956-9286-45af-8ebd-4ecd0884b28e",
   "metadata": {},
   "outputs": [
    {
     "data": {
      "text/plain": [
       "Brand\n",
       "Apple       70526.34\n",
       "Dell        66662.99\n",
       "HP          63614.36\n",
       "Samsung     61550.90\n",
       "Lenovo      58303.87\n",
       "Asus        58017.87\n",
       "Canon       57936.10\n",
       "Logitech    53708.81\n",
       "Name: Price, dtype: float64"
      ]
     },
     "execution_count": 49,
     "metadata": {},
     "output_type": "execute_result"
    }
   ],
   "source": [
    "df.groupby('Brand')['Price'].sum().sort_values(ascending=False)"
   ]
  },
  {
   "cell_type": "code",
   "execution_count": 51,
   "id": "014528a8-9b9c-4d9b-a970-3bd039944919",
   "metadata": {},
   "outputs": [
    {
     "data": {
      "text/plain": [
       "Product_Name\n",
       "Laptop        64457.11\n",
       "Smartphone    56523.69\n",
       "Mouse         55197.96\n",
       "Printer       54484.43\n",
       "Webcam        52580.87\n",
       "Keyboard      52563.29\n",
       "Tablet        49146.51\n",
       "Monitor       44965.93\n",
       "Headphones    44626.57\n",
       "Router        33837.69\n",
       "Name: Price, dtype: float64"
      ]
     },
     "execution_count": 51,
     "metadata": {},
     "output_type": "execute_result"
    }
   ],
   "source": [
    "df.groupby('Product_Name')['Price'].sum().sort_values(ascending=False)"
   ]
  },
  {
   "cell_type": "code",
   "execution_count": null,
   "id": "dfc624e6-b8ca-440e-b0fe-b2ef1237bc7d",
   "metadata": {},
   "outputs": [],
   "source": []
  }
 ],
 "metadata": {
  "kernelspec": {
   "display_name": "Python 3 (ipykernel)",
   "language": "python",
   "name": "python3"
  },
  "language_info": {
   "codemirror_mode": {
    "name": "ipython",
    "version": 3
   },
   "file_extension": ".py",
   "mimetype": "text/x-python",
   "name": "python",
   "nbconvert_exporter": "python",
   "pygments_lexer": "ipython3",
   "version": "3.12.4"
  }
 },
 "nbformat": 4,
 "nbformat_minor": 5
}
