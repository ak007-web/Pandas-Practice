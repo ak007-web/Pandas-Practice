{
 "cells": [
  {
   "cell_type": "markdown",
   "id": "b615ffcd-98ee-4a08-a165-69f333f03614",
   "metadata": {},
   "source": [
    "# Pandas"
   ]
  },
  {
   "cell_type": "markdown",
   "id": "12d031cf-b968-4935-b983-e71851250b6d",
   "metadata": {},
   "source": [
    "**Importing Pandas**"
   ]
  },
  {
   "cell_type": "code",
   "execution_count": 1,
   "id": "0ee93487-e1d2-48cb-9298-95b89c8235c5",
   "metadata": {},
   "outputs": [],
   "source": [
    "import pandas as pd"
   ]
  },
  {
   "cell_type": "markdown",
   "id": "24ca9845-a2da-48c2-a776-de382eac4f61",
   "metadata": {},
   "source": [
    "**Creating Data Frame of a variable**"
   ]
  },
  {
   "cell_type": "code",
   "execution_count": 8,
   "id": "04f5dec1-ed81-4469-a644-2f1fa19697c2",
   "metadata": {},
   "outputs": [
    {
     "name": "stdout",
     "output_type": "stream",
     "text": [
      "   a  b\n",
      "0  1  A\n",
      "1  2  B\n",
      "2  3  C\n"
     ]
    }
   ],
   "source": [
    "a={\n",
    "    'a':[1,2,3],\n",
    "    'b':['A','B','C']\n",
    "}\n",
    "df=pd.DataFrame(a)\n",
    "print(df)"
   ]
  },
  {
   "cell_type": "markdown",
   "id": "409fa91c-a12d-4eb5-a371-bb4ec5902667",
   "metadata": {},
   "source": [
    "**Creating Series of a variable**"
   ]
  },
  {
   "cell_type": "code",
   "execution_count": 11,
   "id": "901fc34b-985b-4fd4-adb1-601a699013c9",
   "metadata": {},
   "outputs": [
    {
     "name": "stdout",
     "output_type": "stream",
     "text": [
      "0    1\n",
      "1    2\n",
      "2    3\n",
      "3    4\n",
      "dtype: int64\n"
     ]
    }
   ],
   "source": [
    "a=[1,2,3,4]\n",
    "ser=pd.Series(a)\n",
    "print(ser)"
   ]
  },
  {
   "cell_type": "code",
   "execution_count": 13,
   "id": "9a20709d-755d-480a-82ee-ff8e736e2aef",
   "metadata": {},
   "outputs": [
    {
     "name": "stdout",
     "output_type": "stream",
     "text": [
      "X    1\n",
      "Y    2\n",
      "Z    3\n",
      "A    4\n",
      "dtype: int64\n"
     ]
    }
   ],
   "source": [
    "ser=pd.Series(a,index=['X','Y','Z','A'])\n",
    "print(ser)"
   ]
  },
  {
   "cell_type": "code",
   "execution_count": 15,
   "id": "783efd96-4c31-40bc-9600-3c9c6ef55b9d",
   "metadata": {},
   "outputs": [
    {
     "name": "stdout",
     "output_type": "stream",
     "text": [
      "day1    420\n",
      "day2    380\n",
      "dtype: int64\n"
     ]
    }
   ],
   "source": [
    "calories = {\"day1\": 420, \"day2\": 380, \"day3\": 390}\n",
    "\n",
    "myvar = pd.Series(calories, index = [\"day1\", \"day2\"])\n",
    "\n",
    "print(myvar)"
   ]
  },
  {
   "cell_type": "code",
   "execution_count": 23,
   "id": "a912d796-3b1c-4dcb-8e56-7ea2672e554a",
   "metadata": {},
   "outputs": [
    {
     "name": "stdout",
     "output_type": "stream",
     "text": [
      "Requirement already satisfied: plotly in c:\\users\\hp\\anaconda3\\lib\\site-packages (5.22.0)\n",
      "Requirement already satisfied: tenacity>=6.2.0 in c:\\users\\hp\\anaconda3\\lib\\site-packages (from plotly) (8.2.2)\n",
      "Requirement already satisfied: packaging in c:\\users\\hp\\anaconda3\\lib\\site-packages (from plotly) (23.2)\n"
     ]
    }
   ],
   "source": [
    "!pip install plotly"
   ]
  },
  {
   "cell_type": "code",
   "execution_count": 27,
   "id": "01b21cf9-efb1-4693-9ee5-fb2084345b7d",
   "metadata": {},
   "outputs": [
    {
     "name": "stderr",
     "output_type": "stream",
     "text": [
      "2025-01-26 12:23:11.182 \n",
      "  \u001b[33m\u001b[1mWarning:\u001b[0m to view this Streamlit app on a browser, run it with the following\n",
      "  command:\n",
      "\n",
      "    streamlit run C:\\Users\\hp\\anaconda3\\Lib\\site-packages\\ipykernel_launcher.py [ARGUMENTS]\n"
     ]
    },
    {
     "data": {
      "text/plain": [
       "DeltaGenerator()"
      ]
     },
     "execution_count": 27,
     "metadata": {},
     "output_type": "execute_result"
    }
   ],
   "source": [
    "import streamlit as st\n",
    "import datetime\n",
    "from PIL import Image\n",
    "import plotly.express as px\n",
    "import plotly.graph_objects as go\n",
    "\n",
    "st.set_page_config(layout=\"wide\")\n",
    "st.markdown('<style>div.block-container{padding-top:1rem;}</style>',unsafe_allow_html=True)"
   ]
  },
  {
   "cell_type": "code",
   "execution_count": 29,
   "id": "c4c7bb5c-2edb-4d3c-a752-002135f56411",
   "metadata": {},
   "outputs": [
    {
     "ename": "SyntaxError",
     "evalue": "unexpected character after line continuation character (4259828083.py, line 1)",
     "output_type": "error",
     "traceback": [
      "\u001b[1;36m  Cell \u001b[1;32mIn[29], line 1\u001b[1;36m\u001b[0m\n\u001b[1;33m    streamlit run .\\app.py --server.port 8080\u001b[0m\n\u001b[1;37m                    ^\u001b[0m\n\u001b[1;31mSyntaxError\u001b[0m\u001b[1;31m:\u001b[0m unexpected character after line continuation character\n"
     ]
    }
   ],
   "source": [
    "streamlit run .\\app.py --server.port 8080"
   ]
  },
  {
   "cell_type": "code",
   "execution_count": null,
   "id": "c917a133-35a5-44e1-90b0-08b9e2e90ffc",
   "metadata": {},
   "outputs": [],
   "source": []
  },
  {
   "cell_type": "code",
   "execution_count": null,
   "id": "3e7ddef0-b27c-4868-a3fb-32bedba4b3de",
   "metadata": {},
   "outputs": [],
   "source": []
  }
 ],
 "metadata": {
  "kernelspec": {
   "display_name": "Python 3 (ipykernel)",
   "language": "python",
   "name": "python3"
  },
  "language_info": {
   "codemirror_mode": {
    "name": "ipython",
    "version": 3
   },
   "file_extension": ".py",
   "mimetype": "text/x-python",
   "name": "python",
   "nbconvert_exporter": "python",
   "pygments_lexer": "ipython3",
   "version": "3.12.4"
  }
 },
 "nbformat": 4,
 "nbformat_minor": 5
}
