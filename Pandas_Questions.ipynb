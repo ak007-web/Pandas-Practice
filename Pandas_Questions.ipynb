{
 "cells": [
  {
   "cell_type": "markdown",
   "metadata": {
    "id": "RelLOkfZSqXL"
   },
   "source": [
    "**Q1. Describe how groupby().transform() differs from groupby().apply(). In what use case would transform() be preferred?**\n",
    "\n"
   ]
  },
  {
   "cell_type": "code",
   "execution_count": null,
   "metadata": {
    "id": "cTiugMYSSVg4"
   },
   "outputs": [],
   "source": []
  },
  {
   "cell_type": "markdown",
   "metadata": {
    "id": "rx_Q_4PtTd7n"
   },
   "source": [
    "**Q2. What is the difference between .loc[], .iloc[], and .at[]? Provide a situation where .at[] performs better.**\n",
    "\n"
   ]
  },
  {
   "cell_type": "markdown",
   "metadata": {
    "id": "QwA8unAwToCl"
   },
   "source": [
    "- .loc[]\n",
    "  - this is used to access data label wise\n",
    "  - it takes names of column/row or index value for accessing values\n",
    "- .iloc[]\n",
    "  - this is used to access data according to integer number positions\n",
    "  - index starts from 0\n",
    "- at[]\n",
    "  - used to access single cell\n",
    "\n",
    "- working of .at[]\n",
    "  - it works faster than .iloc[] when we need to access or modify single shell"
   ]
  },
  {
   "cell_type": "markdown",
   "metadata": {
    "id": "ciOtvEzyToYi"
   },
   "source": [
    "**Q3.Group by 'city' and return a DataFrame showing the average, max, and number of sales entries for each city.**\n",
    "\n",
    "```\n",
    "df = pd.DataFrame({\n",
    "    'city': ['Pune', 'Mumbai', 'Delhi', 'Pune', 'Delhi', 'Pune'],\n",
    "    'sales': [200, 150, 400, 100, 300,250],\n",
    "    'month': ['Jan', 'Feb', 'Jan', 'Feb', 'Mar','Mar']\n",
    "})\n",
    "\n",
    "```\n"
   ]
  },
  {
   "cell_type": "code",
   "execution_count": 5,
   "metadata": {
    "id": "4liCzcPGUSDV"
   },
   "outputs": [
    {
     "name": "stdout",
     "output_type": "stream",
     "text": [
      "               avg  max  count\n",
      "city                          \n",
      "Delhi   350.000000  400      2\n",
      "Mumbai  150.000000  150      1\n",
      "Pune    183.333333  250      3\n"
     ]
    }
   ],
   "source": [
    "import pandas as pd\n",
    "\n",
    "df = pd.DataFrame({\n",
    "    'city': ['Pune', 'Mumbai', 'Delhi', 'Pune', 'Delhi', 'Pune'],\n",
    "    'sales': [200, 150, 400, 100, 300,250],\n",
    "    'month': ['Jan', 'Feb', 'Jan', 'Feb', 'Mar','Mar']\n",
    "})\n",
    "\n",
    "result=df.groupby('city')['sales'].agg(avg='mean',max='max',count='count')\n",
    "\n",
    "print(result)"
   ]
  },
  {
   "cell_type": "markdown",
   "metadata": {
    "id": "O1lxgtUpUQ4V"
   },
   "source": [
    "**Q4. Given,**\n",
    "\n",
    "```\n",
    "df = pd.DataFrame({\n",
    "    'student': ['Arya', 'Arya', 'Aniket', 'Aniket'],\n",
    "    'subject': ['Math', 'English', 'Math', 'English'],\n",
    "    'score': [85, 90, 78, 88]\n",
    "})\n",
    "\n",
    "```\n",
    "\n",
    "**Task A:**\n",
    "**Pivot this table so that each row is a student and each column is a subject.**\n",
    "\n",
    "**Task B:**\n",
    "**Melt the pivoted table back to the original long format.**"
   ]
  },
  {
   "cell_type": "code",
   "execution_count": null,
   "metadata": {
    "id": "osD8VXjfVew-"
   },
   "outputs": [],
   "source": []
  },
  {
   "cell_type": "markdown",
   "metadata": {
    "id": "msBkq9wjVfJf"
   },
   "source": [
    "**Q5.Given**\n",
    "\n",
    "```\n",
    "df = pd.DataFrame({\n",
    "    'product': ['Apple', 'Banana', 'Cherry', 'Dragonfruit', 'Elderberry'],\n",
    "    'price': [100, 150, 200, 250, 300],\n",
    "    'stock': [0, 10, 5, 0, 20]\n",
    "})\n",
    "\n",
    "```\n",
    "**Task:**\n",
    "**Filter products where stock is greater than 0 and price is less than or equal to 200.**\n",
    "\n"
   ]
  },
  {
   "cell_type": "code",
   "execution_count": 9,
   "metadata": {
    "id": "VWuLHIMOd0mf"
   },
   "outputs": [
    {
     "name": "stdout",
     "output_type": "stream",
     "text": [
      "  product  price  stock\n",
      "1  Banana    150     10\n",
      "2  Cherry    200      5\n"
     ]
    }
   ],
   "source": [
    "df = pd.DataFrame({\n",
    "    'product': ['Apple', 'Banana', 'Cherry', 'Dragonfruit', 'Elderberry'],\n",
    "    'price': [100, 150, 200, 250, 300],\n",
    "    'stock': [0, 10, 5, 0, 20]\n",
    "})\n",
    "new=df[(df['stock']>0) & (df['price']<=200)]\n",
    "print(new)"
   ]
  },
  {
   "cell_type": "markdown",
   "metadata": {
    "id": "h0nIhU6Zd0G5"
   },
   "source": [
    "**Q6. Given:**\n",
    "```\n",
    "orders = pd.DataFrame({\n",
    "    'order_id': [1, 2, 3],\n",
    "    'customer_id': [100, 101, 102],\n",
    "    'amount': [250, 450, 300]\n",
    "})\n",
    "\n",
    "customers = pd.DataFrame({\n",
    "    'customer_id': [100, 101],\n",
    "    'name': ['Alice', 'Bob']\n",
    "})\n",
    "```\n",
    "\n",
    "**Task:**\n",
    "**Merge the two DataFrames to include all orders, even if the customer data is missing. Replace missing names with \"Unknown\".**\n",
    "\n"
   ]
  },
  {
   "cell_type": "code",
   "execution_count": 15,
   "metadata": {
    "id": "YlO70LeteL-0"
   },
   "outputs": [
    {
     "name": "stdout",
     "output_type": "stream",
     "text": [
      "   order_id  customer_id  amount     name\n",
      "0         1          100     250    Alice\n",
      "1         2          101     450      Bob\n",
      "2         3          102     300  unknown\n"
     ]
    }
   ],
   "source": [
    "orders = pd.DataFrame({\n",
    "    'order_id': [1, 2, 3],\n",
    "    'customer_id': [100, 101, 102],\n",
    "    'amount': [250, 450, 300]\n",
    "})\n",
    "\n",
    "customers = pd.DataFrame({\n",
    "    'customer_id': [100, 101],\n",
    "    'name': ['Alice', 'Bob']\n",
    "})\n",
    "\n",
    "new_df=orders.merge(customers,on='customer_id',how='left')\n",
    "new_df['name']=new_df['name'].fillna('unknown')\n",
    "print(new_df)"
   ]
  },
  {
   "cell_type": "markdown",
   "metadata": {
    "id": "ktHE65T1eMqC"
   },
   "source": [
    "**Q7:Given**\n",
    "\n",
    "```\n",
    "df = pd.DataFrame({\n",
    "    'product': ['Apple', 'Banana', 'Cherry', 'Dragonfruit'],\n",
    "    'price': [100, 200, 150, 300],\n",
    "    'discount': [10, 0, 15, 20]\n",
    "})\n",
    "\n",
    "```\n",
    "\n",
    "**Create a new column 'final_price' that subtracts 'discount' from 'price' only if discount > 0, else keep the original price.**"
   ]
  },
  {
   "cell_type": "code",
   "execution_count": null,
   "metadata": {
    "id": "k0VJjaRyejbz"
   },
   "outputs": [],
   "source": [
    "df = pd.DataFrame({\n",
    "    'product': ['Apple', 'Banana', 'Cherry', 'Dragonfruit'],\n",
    "    'price': [100, 200, 150, 300],\n",
    "    'discount': [10, 0, 15, 20]\n",
    "})\n",
    "\n"
   ]
  },
  {
   "cell_type": "markdown",
   "metadata": {
    "id": "41g8EOO1ekCO"
   },
   "source": [
    "**Q8. Explain the differences between .map(), .apply(), and .applymap() in Pandas.\n",
    "When would you use each? Give examples.**\n"
   ]
  },
  {
   "cell_type": "markdown",
   "metadata": {
    "id": "H12Zcl4me2a6"
   },
   "source": [
    "- map()\n",
    "  - map() function is used to apply a function to each of the element\n",
    "  - it can be used on single dimention array like series\n",
    "- apply()\n",
    "  - apply() function is same like map()\n",
    "  - it can be used on series as well as data frames\n",
    "  - it takes axis as input to perform on data frames\n",
    "- applymap()\n",
    "  - applaymap() function only perform on dataframes\n",
    "  - used to applay functions on eac element of a dataframe"
   ]
  },
  {
   "cell_type": "markdown",
   "metadata": {
    "id": "dEOh31Fhe29U"
   },
   "source": [
    "**Q9.Given:**\n",
    "\n",
    "```\n",
    "df = pd.DataFrame({\n",
    "    'A': ['dog', 'cat', 'dog'],\n",
    "    'B': ['cat', 'cat', 'dog']\n",
    "})\n",
    "```\n",
    "\n",
    "**Get the frequency count of each unique value across all columns.**\n",
    "\n",
    "\n"
   ]
  },
  {
   "cell_type": "code",
   "execution_count": 18,
   "metadata": {
    "id": "npEHjUvvfBjo"
   },
   "outputs": [
    {
     "name": "stdout",
     "output_type": "stream",
     "text": [
      "dog    3\n",
      "cat    3\n",
      "Name: count, dtype: int64\n"
     ]
    }
   ],
   "source": [
    "df = pd.DataFrame({\n",
    "    'A': ['dog', 'cat', 'dog'],\n",
    "    'B': ['cat', 'cat', 'dog']\n",
    "})\n",
    "\n",
    "count=df.stack().value_counts()         # note: stack is used to combine all elements in a series\n",
    "print(count)"
   ]
  },
  {
   "cell_type": "markdown",
   "metadata": {
    "id": "l47i3ZVQfIEb"
   },
   "source": [
    "**Q10: What is the difference between pivot() and pivot_table()?\n",
    "In what scenario will pivot() raise an error and how does pivot_table() handle it?**"
   ]
  },
  {
   "cell_type": "code",
   "execution_count": null,
   "metadata": {
    "id": "cLDthJ1GfRTv"
   },
   "outputs": [],
   "source": []
  }
 ],
 "metadata": {
  "colab": {
   "provenance": []
  },
  "kernelspec": {
   "display_name": "Python 3 (ipykernel)",
   "language": "python",
   "name": "python3"
  },
  "language_info": {
   "codemirror_mode": {
    "name": "ipython",
    "version": 3
   },
   "file_extension": ".py",
   "mimetype": "text/x-python",
   "name": "python",
   "nbconvert_exporter": "python",
   "pygments_lexer": "ipython3",
   "version": "3.12.4"
  }
 },
 "nbformat": 4,
 "nbformat_minor": 4
}
